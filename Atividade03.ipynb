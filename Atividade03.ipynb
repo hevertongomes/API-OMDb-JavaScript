{
  "nbformat": 4,
  "nbformat_minor": 0,
  "metadata": {
    "colab": {
      "name": "Atividade03.ipynb",
      "provenance": [],
      "collapsed_sections": [],
      "authorship_tag": "ABX9TyMr36C1cEWI3IgBp+gOiMy9",
      "include_colab_link": true
    },
    "kernelspec": {
      "name": "python3",
      "display_name": "Python 3"
    },
    "language_info": {
      "name": "python"
    }
  },
  "cells": [
    {
      "cell_type": "markdown",
      "metadata": {
        "id": "view-in-github",
        "colab_type": "text"
      },
      "source": [
        "<a href=\"https://colab.research.google.com/github/hevertongomes/API-OMDb-JavaScript/blob/master/Atividade03.ipynb\" target=\"_parent\"><img src=\"https://colab.research.google.com/assets/colab-badge.svg\" alt=\"Open In Colab\"/></a>"
      ]
    },
    {
      "cell_type": "markdown",
      "metadata": {
        "id": "9LtlTlqKmApM"
      },
      "source": [
        "## Atividade sobre mineração de regras de associação\n",
        "\n",
        "\n",
        "> Está tarefa é voltada para análise de compras de veículos em 2021 baseado na tabela Fipe (Fundação Instituto de Pesquisas Econômicas)."
      ]
    },
    {
      "cell_type": "markdown",
      "metadata": {
        "id": "EDomiOU_mLlc"
      },
      "source": [
        "#### Informações sobre o dataset escolhido:\n",
        "\n",
        "> Link para base no kaggle: https://www.kaggle.com/victorsoeiro/brazilian-vehicle-prices-july-2021-fipe"
      ]
    },
    {
      "cell_type": "code",
      "metadata": {
        "colab": {
          "base_uri": "https://localhost:8080/",
          "height": 202
        },
        "id": "YeClxxvnl8lI",
        "outputId": "33932fb9-4f41-4865-c074-24b36eb3c480"
      },
      "source": [
        "import pandas as pd\n",
        "import numpy as np\n",
        "\n",
        "champs = pd.read_csv('https://raw.githubusercontent.com/ashouy/Aprendizado-de-Maquina/main/bases/tabela_fipe.csv')\n",
        "champs.head()\n"
      ],
      "execution_count": 52,
      "outputs": [
        {
          "output_type": "execute_result",
          "data": {
            "text/html": [
              "<div>\n",
              "<style scoped>\n",
              "    .dataframe tbody tr th:only-of-type {\n",
              "        vertical-align: middle;\n",
              "    }\n",
              "\n",
              "    .dataframe tbody tr th {\n",
              "        vertical-align: top;\n",
              "    }\n",
              "\n",
              "    .dataframe thead th {\n",
              "        text-align: right;\n",
              "    }\n",
              "</style>\n",
              "<table border=\"1\" class=\"dataframe\">\n",
              "  <thead>\n",
              "    <tr style=\"text-align: right;\">\n",
              "      <th></th>\n",
              "      <th>Marca</th>\n",
              "      <th>Modelo</th>\n",
              "      <th>Valor</th>\n",
              "      <th>Ano</th>\n",
              "      <th>Combustível</th>\n",
              "      <th>Automático</th>\n",
              "    </tr>\n",
              "  </thead>\n",
              "  <tbody>\n",
              "    <tr>\n",
              "      <th>0</th>\n",
              "      <td>Acura</td>\n",
              "      <td>Integra GS 1.8</td>\n",
              "      <td>11165.0</td>\n",
              "      <td>1992</td>\n",
              "      <td>Gasolina</td>\n",
              "      <td>False</td>\n",
              "    </tr>\n",
              "    <tr>\n",
              "      <th>1</th>\n",
              "      <td>Acura</td>\n",
              "      <td>Integra GS 1.8</td>\n",
              "      <td>10167.0</td>\n",
              "      <td>1991</td>\n",
              "      <td>Gasolina</td>\n",
              "      <td>False</td>\n",
              "    </tr>\n",
              "    <tr>\n",
              "      <th>2</th>\n",
              "      <td>Acura</td>\n",
              "      <td>Legend 3.2/3.5</td>\n",
              "      <td>25574.0</td>\n",
              "      <td>1998</td>\n",
              "      <td>Gasolina</td>\n",
              "      <td>False</td>\n",
              "    </tr>\n",
              "    <tr>\n",
              "      <th>3</th>\n",
              "      <td>Acura</td>\n",
              "      <td>Legend 3.2/3.5</td>\n",
              "      <td>22561.0</td>\n",
              "      <td>1997</td>\n",
              "      <td>Gasolina</td>\n",
              "      <td>False</td>\n",
              "    </tr>\n",
              "    <tr>\n",
              "      <th>4</th>\n",
              "      <td>Acura</td>\n",
              "      <td>Legend 3.2/3.5</td>\n",
              "      <td>21388.0</td>\n",
              "      <td>1996</td>\n",
              "      <td>Gasolina</td>\n",
              "      <td>False</td>\n",
              "    </tr>\n",
              "  </tbody>\n",
              "</table>\n",
              "</div>"
            ],
            "text/plain": [
              "   Marca          Modelo    Valor   Ano Combustível  Automático\n",
              "0  Acura  Integra GS 1.8  11165.0  1992    Gasolina       False\n",
              "1  Acura  Integra GS 1.8  10167.0  1991    Gasolina       False\n",
              "2  Acura  Legend 3.2/3.5  25574.0  1998    Gasolina       False\n",
              "3  Acura  Legend 3.2/3.5  22561.0  1997    Gasolina       False\n",
              "4  Acura  Legend 3.2/3.5  21388.0  1996    Gasolina       False"
            ]
          },
          "metadata": {},
          "execution_count": 52
        }
      ]
    },
    {
      "cell_type": "markdown",
      "metadata": {
        "id": "HmQB-8SUudEj"
      },
      "source": [
        "## Tratamento"
      ]
    },
    {
      "cell_type": "code",
      "metadata": {
        "id": "SuLSjXkipfsK"
      },
      "source": [
        "# Renomenar colunas e diminuir tamanho da base para testes\n",
        "champs.rename(columns={'Combustível':'Combustivel', 'Automático':'Cambio'}, inplace=True)\n",
        "cars_fipe = champs.head(10000)"
      ],
      "execution_count": 53,
      "outputs": []
    },
    {
      "cell_type": "code",
      "metadata": {
        "colab": {
          "base_uri": "https://localhost:8080/"
        },
        "id": "O0EOu1w7rz3y",
        "outputId": "74c9793c-339f-4f73-f2da-985cbbd75c57"
      },
      "source": [
        "# Melhorando apresentação da coluna cambio para resultados\n",
        "def convert_cambio_to_string(cambio):\n",
        "  if cambio == False:\n",
        "    return 'Manual'\n",
        "  else:\n",
        "    return 'Automático'\n",
        "\n",
        "convert = cars_fipe['Cambio'].apply(convert_cambio_to_string)\n",
        "convert.head()"
      ],
      "execution_count": 54,
      "outputs": [
        {
          "output_type": "execute_result",
          "data": {
            "text/plain": [
              "0    Manual\n",
              "1    Manual\n",
              "2    Manual\n",
              "3    Manual\n",
              "4    Manual\n",
              "Name: Cambio, dtype: object"
            ]
          },
          "metadata": {},
          "execution_count": 54
        }
      ]
    },
    {
      "cell_type": "code",
      "metadata": {
        "colab": {
          "base_uri": "https://localhost:8080/",
          "height": 308
        },
        "id": "cxCAsA-Qt10v",
        "outputId": "4c8d390c-e534-489e-be8f-e9d61eed9a0d"
      },
      "source": [
        "cars_fipe['Cambio'] = convert\n",
        "cars_fipe.head()"
      ],
      "execution_count": 55,
      "outputs": [
        {
          "output_type": "stream",
          "text": [
            "/usr/local/lib/python3.7/dist-packages/ipykernel_launcher.py:1: SettingWithCopyWarning: \n",
            "A value is trying to be set on a copy of a slice from a DataFrame.\n",
            "Try using .loc[row_indexer,col_indexer] = value instead\n",
            "\n",
            "See the caveats in the documentation: https://pandas.pydata.org/pandas-docs/stable/user_guide/indexing.html#returning-a-view-versus-a-copy\n",
            "  \"\"\"Entry point for launching an IPython kernel.\n"
          ],
          "name": "stderr"
        },
        {
          "output_type": "execute_result",
          "data": {
            "text/html": [
              "<div>\n",
              "<style scoped>\n",
              "    .dataframe tbody tr th:only-of-type {\n",
              "        vertical-align: middle;\n",
              "    }\n",
              "\n",
              "    .dataframe tbody tr th {\n",
              "        vertical-align: top;\n",
              "    }\n",
              "\n",
              "    .dataframe thead th {\n",
              "        text-align: right;\n",
              "    }\n",
              "</style>\n",
              "<table border=\"1\" class=\"dataframe\">\n",
              "  <thead>\n",
              "    <tr style=\"text-align: right;\">\n",
              "      <th></th>\n",
              "      <th>Marca</th>\n",
              "      <th>Modelo</th>\n",
              "      <th>Valor</th>\n",
              "      <th>Ano</th>\n",
              "      <th>Combustivel</th>\n",
              "      <th>Cambio</th>\n",
              "    </tr>\n",
              "  </thead>\n",
              "  <tbody>\n",
              "    <tr>\n",
              "      <th>0</th>\n",
              "      <td>Acura</td>\n",
              "      <td>Integra GS 1.8</td>\n",
              "      <td>11165.0</td>\n",
              "      <td>1992</td>\n",
              "      <td>Gasolina</td>\n",
              "      <td>Manual</td>\n",
              "    </tr>\n",
              "    <tr>\n",
              "      <th>1</th>\n",
              "      <td>Acura</td>\n",
              "      <td>Integra GS 1.8</td>\n",
              "      <td>10167.0</td>\n",
              "      <td>1991</td>\n",
              "      <td>Gasolina</td>\n",
              "      <td>Manual</td>\n",
              "    </tr>\n",
              "    <tr>\n",
              "      <th>2</th>\n",
              "      <td>Acura</td>\n",
              "      <td>Legend 3.2/3.5</td>\n",
              "      <td>25574.0</td>\n",
              "      <td>1998</td>\n",
              "      <td>Gasolina</td>\n",
              "      <td>Manual</td>\n",
              "    </tr>\n",
              "    <tr>\n",
              "      <th>3</th>\n",
              "      <td>Acura</td>\n",
              "      <td>Legend 3.2/3.5</td>\n",
              "      <td>22561.0</td>\n",
              "      <td>1997</td>\n",
              "      <td>Gasolina</td>\n",
              "      <td>Manual</td>\n",
              "    </tr>\n",
              "    <tr>\n",
              "      <th>4</th>\n",
              "      <td>Acura</td>\n",
              "      <td>Legend 3.2/3.5</td>\n",
              "      <td>21388.0</td>\n",
              "      <td>1996</td>\n",
              "      <td>Gasolina</td>\n",
              "      <td>Manual</td>\n",
              "    </tr>\n",
              "  </tbody>\n",
              "</table>\n",
              "</div>"
            ],
            "text/plain": [
              "   Marca          Modelo    Valor   Ano Combustivel  Cambio\n",
              "0  Acura  Integra GS 1.8  11165.0  1992    Gasolina  Manual\n",
              "1  Acura  Integra GS 1.8  10167.0  1991    Gasolina  Manual\n",
              "2  Acura  Legend 3.2/3.5  25574.0  1998    Gasolina  Manual\n",
              "3  Acura  Legend 3.2/3.5  22561.0  1997    Gasolina  Manual\n",
              "4  Acura  Legend 3.2/3.5  21388.0  1996    Gasolina  Manual"
            ]
          },
          "metadata": {},
          "execution_count": 55
        }
      ]
    },
    {
      "cell_type": "code",
      "metadata": {
        "colab": {
          "base_uri": "https://localhost:8080/"
        },
        "id": "6FF8uiblvdcA",
        "outputId": "d8591ae9-8e73-4df4-a5a8-ecb90bc7dd05"
      },
      "source": [
        "cars_fipe.shape\n",
        "# 171351 transações ferente a veículos da tabela fipe "
      ],
      "execution_count": 56,
      "outputs": [
        {
          "output_type": "execute_result",
          "data": {
            "text/plain": [
              "(10000, 6)"
            ]
          },
          "metadata": {},
          "execution_count": 56
        }
      ]
    },
    {
      "cell_type": "code",
      "metadata": {
        "colab": {
          "base_uri": "https://localhost:8080/"
        },
        "id": "_AODBfbe7TD2",
        "outputId": "c5bd34e2-7e4a-43df-80bd-67792118af9c"
      },
      "source": [
        "#Transforma o dataframe em uma lista de listas (cada lista é uma transação)\n",
        "transactions = []\n",
        "for i in range(0, cars_fipe.shape[0]):\n",
        "    transactions.append([str(cars_fipe.values[i, j]) for j in range(0, 6)])\n",
        "\n",
        "print(transactions[1])"
      ],
      "execution_count": 57,
      "outputs": [
        {
          "output_type": "stream",
          "text": [
            "['Acura', 'Integra GS 1.8', '10167.0', '1991', 'Gasolina', 'Manual']\n"
          ],
          "name": "stdout"
        }
      ]
    },
    {
      "cell_type": "code",
      "metadata": {
        "colab": {
          "base_uri": "https://localhost:8080/"
        },
        "id": "GeOsUaGe7eWM",
        "outputId": "0ba3f74c-d87f-490b-a096-4420985971a4"
      },
      "source": [
        "\n",
        "#remove os nan das listas\n",
        "for i in range(len(transactions)):\n",
        "  transactions[i] = [item for item in transactions[i] if str(item) != 'nan']  \n",
        "\n",
        "print(transactions[1])"
      ],
      "execution_count": 58,
      "outputs": [
        {
          "output_type": "stream",
          "text": [
            "['Acura', 'Integra GS 1.8', '10167.0', '1991', 'Gasolina', 'Manual']\n"
          ],
          "name": "stdout"
        }
      ]
    },
    {
      "cell_type": "markdown",
      "metadata": {
        "id": "VKsKbOe_7ppj"
      },
      "source": [
        "## Aplicação do algoritmo apriori"
      ]
    },
    {
      "cell_type": "code",
      "metadata": {
        "colab": {
          "base_uri": "https://localhost:8080/"
        },
        "id": "OeYh2AlL7zkT",
        "outputId": "c8f58803-76ef-4191-9a90-32770ea1d880"
      },
      "source": [
        "!pip install apyori\n"
      ],
      "execution_count": 59,
      "outputs": [
        {
          "output_type": "stream",
          "text": [
            "Requirement already satisfied: apyori in /usr/local/lib/python3.7/dist-packages (1.1.2)\n"
          ],
          "name": "stdout"
        }
      ]
    },
    {
      "cell_type": "code",
      "metadata": {
        "id": "C3Vy5QSg7tMX"
      },
      "source": [
        "from apyori import apriori\n",
        "rules = apriori(transactions, min_support = 0.0045, min_confidence = 0.2, min_lift = 3, min_length = 2)"
      ],
      "execution_count": 61,
      "outputs": []
    },
    {
      "cell_type": "code",
      "metadata": {
        "colab": {
          "base_uri": "https://localhost:8080/"
        },
        "id": "7-lCw2_i782c",
        "outputId": "1a735830-28c3-42d1-dec7-f70412e24175"
      },
      "source": [
        "association_rules = list(rules) #transforma resultado em uma lista\n",
        "\n",
        "print(association_rules[0])"
      ],
      "execution_count": 62,
      "outputs": [
        {
          "output_type": "stream",
          "text": [
            "RelationRecord(items=frozenset({'2020', 'Automático'}), support=0.0112, ordered_statistics=[OrderedStatistic(items_base=frozenset({'2020'}), items_add=frozenset({'Automático'}), confidence=0.4132841328413284, lift=3.2465367858706085)])\n"
          ],
          "name": "stdout"
        }
      ]
    },
    {
      "cell_type": "code",
      "metadata": {
        "colab": {
          "base_uri": "https://localhost:8080/"
        },
        "id": "Co1HpX1Fd9qh",
        "outputId": "a93ad208-9415-4968-da04-740c2a452343"
      },
      "source": [
        "\n",
        "#Mostra cada regra, com as informações de suporte, confiança e lift\n",
        "for item in association_rules:\n",
        "  # first index of the inner list\n",
        "  # Contains base item and add item\n",
        "  pair = item[0] \n",
        "  items = [x for x in pair]\n",
        "  print(\"Rule: \" + items[0] + \" -> \" + items[1])\n",
        "\n",
        "  #second index of the inner list\n",
        "  print(\"Support: \" + str(item[1]))\n",
        "\n",
        "  #third index of the list located at 0th\n",
        "  #of the third index of the inner list\n",
        "\n",
        "  print(\"Confidence: \" + str(item[2][0][2]))\n",
        "  print(\"Lift: \" + str(item[2][0][3]))\n",
        "  print(\"=====================================\")"
      ],
      "execution_count": 50,
      "outputs": [
        {
          "output_type": "stream",
          "text": [
            "Rule: 2020 -> Automático\n",
            "Support: 0.0112\n",
            "Confidence: 0.4132841328413284\n",
            "Lift: 3.2465367858706085\n",
            "=====================================\n",
            "Rule: 2021 -> Automático\n",
            "Support: 0.0095\n",
            "Confidence: 0.38461538461538464\n",
            "Lift: 3.021330593993595\n",
            "=====================================\n",
            "Rule: Agrale -> Diesel\n",
            "Support: 0.0076\n",
            "Confidence: 1.0\n",
            "Lift: 10.626992561105206\n",
            "=====================================\n",
            "Rule: Caoa Chery -> Automático\n",
            "Support: 0.0057\n",
            "Confidence: 0.4488188976377953\n",
            "Lift: 3.5256786931484316\n",
            "=====================================\n",
            "Rule: Citroën -> Automático\n",
            "Support: 0.0298\n",
            "Confidence: 0.23409269442262373\n",
            "Lift: 3.0801670318766283\n",
            "=====================================\n",
            "Rule: Zero KM -> Automático\n",
            "Support: 0.0122\n",
            "Confidence: 0.40531561461794025\n",
            "Lift: 3.183940413338101\n",
            "=====================================\n",
            "Rule: 2020 -> Gasolina\n",
            "Support: 0.0101\n",
            "Confidence: 0.3726937269372694\n",
            "Lift: 3.0623970989093623\n",
            "=====================================\n",
            "Rule: 2021 -> Gasolina\n",
            "Support: 0.0085\n",
            "Confidence: 0.4009433962264151\n",
            "Lift: 3.1495946286442664\n",
            "=====================================\n",
            "Rule: Manual -> Agrale\n",
            "Support: 0.0076\n",
            "Confidence: 1.0\n",
            "Lift: 11.299435028248588\n",
            "=====================================\n",
            "Rule: Caoa Chery -> Gasolina\n",
            "Support: 0.0057\n",
            "Confidence: 0.4488188976377953\n",
            "Lift: 3.687912059472435\n",
            "=====================================\n",
            "Rule: Citroën -> Gasolina\n",
            "Support: 0.0298\n",
            "Confidence: 0.23409269442262373\n",
            "Lift: 3.387737980066914\n",
            "=====================================\n",
            "Rule: Zero KM -> Gasolina\n",
            "Support: 0.0112\n",
            "Confidence: 0.37209302325581395\n",
            "Lift: 3.057461160688693\n",
            "=====================================\n"
          ],
          "name": "stdout"
        }
      ]
    },
    {
      "cell_type": "markdown",
      "metadata": {
        "id": "Hq5DPP0g7mZS"
      },
      "source": [
        ""
      ]
    },
    {
      "cell_type": "markdown",
      "metadata": {
        "id": "jLztMaDpvWvd"
      },
      "source": [
        ""
      ]
    }
  ]
}